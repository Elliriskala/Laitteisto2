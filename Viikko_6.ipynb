{
 "cells": [
  {
   "cell_type": "code",
   "execution_count": 4,
   "id": "initial_id",
   "metadata": {
    "collapsed": true,
    "ExecuteTime": {
     "end_time": "2024-05-05T11:12:37.853865700Z",
     "start_time": "2024-05-05T11:12:37.836657300Z"
    }
   },
   "outputs": [
    {
     "name": "stdout",
     "output_type": "stream",
     "text": [
      "4*x\n"
     ]
    }
   ],
   "source": [
    "import numpy as np\n",
    "import matplotlib.pyplot as plt\n",
    "from sympy import symbols, solve, diff, sin\n",
    "\n",
    "# Funktion derivaatta f'(x) tarkoittaa fuktion hetkellistä kasvunopeutta pisteessä x. Havainnollisesti derivaatta on funktion kuvaajalle pisteessä x piirretyn tangenttisuoran kulmakerroin. Derivaatta lasketaan erotusosamäärän raja-arvona. \n",
    "\n",
    "# f'(x) = f(x + delta x) - f(x)/delta x\n",
    "\n",
    "# missä funktion arvon pisteessä x verrataan lähellä olevaan pisteeseen x + delta x ja tutkitaan lähestyykö osamäärä jotain lukua, kun delta x lähestyy rajatta nollaa. \n",
    "\n",
    "# 1. Laske sympyllä esimerkin 2x2−3 derivaatta.\n",
    "\n",
    "x = symbols('x')\n",
    "a=diff(2*x**2-3, x)\n",
    "print(a)\n"
   ]
  },
  {
   "cell_type": "code",
   "execution_count": 10,
   "outputs": [
    {
     "name": "stdout",
     "output_type": "stream",
     "text": [
      "Derivaatta: -0.832293534378636      Virhe: 4.83229353437864\n"
     ]
    }
   ],
   "source": [
    "import numpy as np\n",
    "import matplotlib.pyplot as plt\n",
    "from sympy import symbols, solve, diff, sin\n",
    "\n",
    "# 2. Laske funktion f (x)=sin x derivaatta numeerinen likiarvo kaksi- ja kolmepistekaavalla käyttäen askelpituutta Δ x=0,001 . \n",
    "\n",
    "def f(x):\n",
    "    return sin(x)\n",
    "\n",
    "dx = 0.001\n",
    "x = x\n",
    "derivaatta = (f(x + dx) - f(x - dx))/(dx)\n",
    "virhe = np.abs(derivaatta - 4)\n",
    "print('Derivaatta:', derivaatta, '     Virhe:', virhe)"
   ],
   "metadata": {
    "collapsed": false,
    "ExecuteTime": {
     "end_time": "2024-05-05T11:22:55.171559400Z",
     "start_time": "2024-05-05T11:22:55.152791500Z"
    }
   },
   "id": "383181337324791d"
  },
  {
   "cell_type": "code",
   "execution_count": 15,
   "outputs": [
    {
     "name": "stdout",
     "output_type": "stream",
     "text": [
      "Derivaatta: -0.7671165077514641      Virhe: 4.767116507751464\n"
     ]
    }
   ],
   "source": [
    "import numpy as np\n",
    "import matplotlib.pyplot as plt\n",
    "from sympy import symbols, solve, diff, sin\n",
    "\n",
    "# 3. Laske funktion f(x)=e^(−x2) derivaatan numeerinen likiarvo kolmipistekaavalla pisteessä x = 1.5. Käytä askelpituutta dx = 0.001.\n",
    "\n",
    "def f(x):\n",
    "    return 2.3**(-x**2)\n",
    "\n",
    "dx = 0.001\n",
    "x = 1.5\n",
    "derivaatta = (f(x + dx) - f(x - dx))/(dx)\n",
    "virhe = np.abs(derivaatta - 4)\n",
    "print('Derivaatta:', derivaatta, '     Virhe:', virhe)\n"
   ],
   "metadata": {
    "collapsed": false,
    "ExecuteTime": {
     "end_time": "2024-05-05T11:26:25.388031100Z",
     "start_time": "2024-05-05T11:26:25.375610200Z"
    }
   },
   "id": "70a39f45e0472c57"
  },
  {
   "cell_type": "code",
   "execution_count": 22,
   "outputs": [
    {
     "name": "stdout",
     "output_type": "stream",
     "text": [
      "-2\n",
      "2.80000000000000\n",
      "2.80000000000000\n"
     ]
    }
   ],
   "source": [
    "import numpy as np\n",
    "import matplotlib.pyplot as plt\n",
    "from sympy import symbols, solve, diff, sin\n",
    "\n",
    "# 4. Perusanalyysi, kpl 3.2 s. 69, tehtävä 3.Määritä likiarvot kuvan funktion derivaatoille pisteissä –4, –0,5 ja 3\n",
    "\n",
    "x = symbols('x')\n",
    "a=diff(-2*x-7, x)\n",
    "print(a)\n",
    "\n",
    "b=diff(2.8*x+3, x)\n",
    "print(b)\n",
    "\n",
    "c=diff(2.8*x+2, x)\n",
    "print(c)"
   ],
   "metadata": {
    "collapsed": false,
    "ExecuteTime": {
     "end_time": "2024-05-05T11:42:19.832361200Z",
     "start_time": "2024-05-05T11:42:19.810626Z"
    }
   },
   "id": "ab004e8619840237"
  },
  {
   "cell_type": "code",
   "execution_count": null,
   "outputs": [],
   "source": [],
   "metadata": {
    "collapsed": false
   },
   "id": "b3c23c1f0da772cd"
  }
 ],
 "metadata": {
  "kernelspec": {
   "display_name": "Python 3",
   "language": "python",
   "name": "python3"
  },
  "language_info": {
   "codemirror_mode": {
    "name": "ipython",
    "version": 2
   },
   "file_extension": ".py",
   "mimetype": "text/x-python",
   "name": "python",
   "nbconvert_exporter": "python",
   "pygments_lexer": "ipython2",
   "version": "2.7.6"
  }
 },
 "nbformat": 4,
 "nbformat_minor": 5
}
